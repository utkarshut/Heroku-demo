{
 "cells": [
  {
   "cell_type": "markdown",
   "metadata": {},
   "source": [
    "## chartbusters-prediction-foretell-the-popularity-of-songs\n",
    "\n",
    "In this hackathon Project done by https://www.machinehack.com/course/chartbusters-prediction-foretell-the-popularity-of-songs/. we have to create prediction algorithm that can predict the views for a given song.\n",
    "\n",
    "### Getting Started\n",
    "\n",
    "In this project, we will analyze a dataset that describes popularity of songs. One of the objectives of this project is to help our customer understand user behaviour and personalize the user experience. \n",
    "\n",
    "The dataset can be found in the same directory. The dataset includes features such as\n",
    "\n",
    "- **Unique_ID** : Unique Identifier.\n",
    "- **Name** : Name of the Artist.\n",
    "- **Genre** : Genre of the Song.\n",
    "- **Country** : Origin Country of Artist.\n",
    "- **Song_Name** : Name of the Song.\n",
    "- **Timestamp** : Release Date and Time.\n",
    "- **Views** : Number of times the song was played/viewed (*Target/Dependent Variable*).\n",
    "- **Comments** : Count of comments for the song.\n",
    "- **Likes** : Count of Likes.\n",
    "- **Popularity** : Popularity score for the artist.\n",
    "- **Followers** : Number of Followers.\n",
    "\n",
    "#### This notebook predict the Views of songs"
   ]
  },
  {
   "cell_type": "markdown",
   "metadata": {},
   "source": [
    "### Installing Dependicies"
   ]
  },
  {
   "cell_type": "code",
   "execution_count": 83,
   "metadata": {},
   "outputs": [],
   "source": [
    "import pandas as pd\n",
    "import numpy as np\n",
    "import matplotlib.pyplot as plt\n",
    "import seaborn as sns\n",
    "from sklearn.model_selection import train_test_split,GridSearchCV,RandomizedSearchCV\n",
    "from sklearn.metrics import mean_squared_error\n",
    "from sklearn.linear_model import SGDRegressor,LinearRegression,Lasso,Ridge\n",
    "from sklearn.ensemble import RandomForestRegressor,GradientBoostingClassifier\n",
    "from sklearn.preprocessing import StandardScaler,MinMaxScaler\n",
    "import time\n",
    "import warnings\n",
    "warnings.simplefilter(action='ignore', category=FutureWarning)\n",
    "from sklearn.pipeline import Pipeline\n",
    "from math import sqrt\n",
    "from sklearn.svm import SVR\n",
    "import xgboost as xgb\n",
    "from sklearn.decomposition import PCA\n",
    "import datetime as dt\n",
    "from datetime import timedelta\n",
    "import pickle"
   ]
  },
  {
   "cell_type": "markdown",
   "metadata": {},
   "source": [
    "### Preprocessing and Exploring the Dataset\n",
    "\n",
    "**Importing the Dataset spam.csv**"
   ]
  },
  {
   "cell_type": "code",
   "execution_count": 84,
   "metadata": {},
   "outputs": [],
   "source": [
    "data = pd.read_csv('./data/Data_Train.csv')"
   ]
  },
  {
   "cell_type": "code",
   "execution_count": 85,
   "metadata": {},
   "outputs": [
    {
     "data": {
      "text/html": [
       "<div>\n",
       "<style scoped>\n",
       "    .dataframe tbody tr th:only-of-type {\n",
       "        vertical-align: middle;\n",
       "    }\n",
       "\n",
       "    .dataframe tbody tr th {\n",
       "        vertical-align: top;\n",
       "    }\n",
       "\n",
       "    .dataframe thead th {\n",
       "        text-align: right;\n",
       "    }\n",
       "</style>\n",
       "<table border=\"1\" class=\"dataframe\">\n",
       "  <thead>\n",
       "    <tr style=\"text-align: right;\">\n",
       "      <th></th>\n",
       "      <th>Unique_ID</th>\n",
       "      <th>Name</th>\n",
       "      <th>Genre</th>\n",
       "      <th>Country</th>\n",
       "      <th>Song_Name</th>\n",
       "      <th>Timestamp</th>\n",
       "      <th>Views</th>\n",
       "      <th>Comments</th>\n",
       "      <th>Likes</th>\n",
       "      <th>Popularity</th>\n",
       "      <th>Followers</th>\n",
       "    </tr>\n",
       "  </thead>\n",
       "  <tbody>\n",
       "    <tr>\n",
       "      <td>0</td>\n",
       "      <td>413890</td>\n",
       "      <td>Hardstyle</td>\n",
       "      <td>danceedm</td>\n",
       "      <td>AU</td>\n",
       "      <td>N-Vitral presents BOMBSQUAD - Poison Spitter (...</td>\n",
       "      <td>2018-03-30 15:24:45.000000</td>\n",
       "      <td>14017</td>\n",
       "      <td>4</td>\n",
       "      <td>499</td>\n",
       "      <td>97</td>\n",
       "      <td>119563</td>\n",
       "    </tr>\n",
       "    <tr>\n",
       "      <td>1</td>\n",
       "      <td>249453</td>\n",
       "      <td>Dj Aladdin</td>\n",
       "      <td>danceedm</td>\n",
       "      <td>AU</td>\n",
       "      <td>Dj Aladdin - Old School Hip Hop Quick Mix</td>\n",
       "      <td>2016-06-20 05:58:52.000000</td>\n",
       "      <td>1918</td>\n",
       "      <td>17</td>\n",
       "      <td>49</td>\n",
       "      <td>17</td>\n",
       "      <td>2141</td>\n",
       "    </tr>\n",
       "    <tr>\n",
       "      <td>2</td>\n",
       "      <td>681116</td>\n",
       "      <td>Maxximize On Air</td>\n",
       "      <td>danceedm</td>\n",
       "      <td>AU</td>\n",
       "      <td>Maxximize On Air - Mixed by Blasterjaxx - Epis...</td>\n",
       "      <td>2015-05-08 17:45:59.000000</td>\n",
       "      <td>9668</td>\n",
       "      <td>11</td>\n",
       "      <td>312</td>\n",
       "      <td>91</td>\n",
       "      <td>22248</td>\n",
       "    </tr>\n",
       "    <tr>\n",
       "      <td>3</td>\n",
       "      <td>387253</td>\n",
       "      <td>GR6 EXPLODE</td>\n",
       "      <td>rbsoul</td>\n",
       "      <td>AU</td>\n",
       "      <td>MC Yago - Tenho Compromisso (DJ R7)</td>\n",
       "      <td>2017-06-08 23:50:03.000000</td>\n",
       "      <td>113036</td>\n",
       "      <td>2</td>\n",
       "      <td>2,400</td>\n",
       "      <td>76</td>\n",
       "      <td>393655</td>\n",
       "    </tr>\n",
       "    <tr>\n",
       "      <td>4</td>\n",
       "      <td>1428029</td>\n",
       "      <td>Tritonal</td>\n",
       "      <td>danceedm</td>\n",
       "      <td>AU</td>\n",
       "      <td>Escape (feat. Steph Jones)</td>\n",
       "      <td>2016-09-17 20:50:19.000000</td>\n",
       "      <td>110024</td>\n",
       "      <td>81</td>\n",
       "      <td>3,031</td>\n",
       "      <td>699</td>\n",
       "      <td>201030</td>\n",
       "    </tr>\n",
       "  </tbody>\n",
       "</table>\n",
       "</div>"
      ],
      "text/plain": [
       "   Unique_ID              Name     Genre Country  \\\n",
       "0     413890         Hardstyle  danceedm      AU   \n",
       "1     249453        Dj Aladdin  danceedm      AU   \n",
       "2     681116  Maxximize On Air  danceedm      AU   \n",
       "3     387253       GR6 EXPLODE    rbsoul      AU   \n",
       "4    1428029          Tritonal  danceedm      AU   \n",
       "\n",
       "                                           Song_Name  \\\n",
       "0  N-Vitral presents BOMBSQUAD - Poison Spitter (...   \n",
       "1          Dj Aladdin - Old School Hip Hop Quick Mix   \n",
       "2  Maxximize On Air - Mixed by Blasterjaxx - Epis...   \n",
       "3                MC Yago - Tenho Compromisso (DJ R7)   \n",
       "4                         Escape (feat. Steph Jones)   \n",
       "\n",
       "                    Timestamp   Views  Comments  Likes Popularity  Followers  \n",
       "0  2018-03-30 15:24:45.000000   14017         4    499         97     119563  \n",
       "1  2016-06-20 05:58:52.000000    1918        17     49         17       2141  \n",
       "2  2015-05-08 17:45:59.000000    9668        11    312         91      22248  \n",
       "3  2017-06-08 23:50:03.000000  113036         2  2,400         76     393655  \n",
       "4  2016-09-17 20:50:19.000000  110024        81  3,031        699     201030  "
      ]
     },
     "execution_count": 85,
     "metadata": {},
     "output_type": "execute_result"
    }
   ],
   "source": [
    "data.head()"
   ]
  },
  {
   "cell_type": "code",
   "execution_count": 86,
   "metadata": {},
   "outputs": [
    {
     "name": "stdout",
     "output_type": "stream",
     "text": [
      "<class 'pandas.core.frame.DataFrame'>\n",
      "RangeIndex: 78458 entries, 0 to 78457\n",
      "Data columns (total 11 columns):\n",
      "Unique_ID     78458 non-null int64\n",
      "Name          78458 non-null object\n",
      "Genre         78458 non-null object\n",
      "Country       78458 non-null object\n",
      "Song_Name     78457 non-null object\n",
      "Timestamp     78458 non-null object\n",
      "Views         78458 non-null int64\n",
      "Comments      78458 non-null int64\n",
      "Likes         78458 non-null object\n",
      "Popularity    78458 non-null object\n",
      "Followers     78458 non-null int64\n",
      "dtypes: int64(4), object(7)\n",
      "memory usage: 6.6+ MB\n"
     ]
    }
   ],
   "source": [
    "data.info()"
   ]
  },
  {
   "cell_type": "markdown",
   "metadata": {},
   "source": [
    "Here we will drop row which containing null song name"
   ]
  },
  {
   "cell_type": "code",
   "execution_count": 87,
   "metadata": {},
   "outputs": [
    {
     "data": {
      "text/plain": [
       "Song_Name    1\n",
       "dtype: int64"
      ]
     },
     "execution_count": 87,
     "metadata": {},
     "output_type": "execute_result"
    }
   ],
   "source": [
    "null_columns = data.columns[data.isnull().any()]\n",
    "null_colmn_value_sum=data[null_columns].isnull().sum()\n",
    "null_colmn_value_sum"
   ]
  },
  {
   "cell_type": "code",
   "execution_count": 88,
   "metadata": {},
   "outputs": [
    {
     "name": "stdout",
     "output_type": "stream",
     "text": [
      "<class 'pandas.core.frame.DataFrame'>\n",
      "Int64Index: 78457 entries, 0 to 78457\n",
      "Data columns (total 11 columns):\n",
      "Unique_ID     78457 non-null int64\n",
      "Name          78457 non-null object\n",
      "Genre         78457 non-null object\n",
      "Country       78457 non-null object\n",
      "Song_Name     78457 non-null object\n",
      "Timestamp     78457 non-null object\n",
      "Views         78457 non-null int64\n",
      "Comments      78457 non-null int64\n",
      "Likes         78457 non-null object\n",
      "Popularity    78457 non-null object\n",
      "Followers     78457 non-null int64\n",
      "dtypes: int64(4), object(7)\n",
      "memory usage: 7.2+ MB\n"
     ]
    }
   ],
   "source": [
    "data.dropna(axis=0,inplace=True)\n",
    "data.info()"
   ]
  },
  {
   "cell_type": "markdown",
   "metadata": {},
   "source": [
    "Dropping Unnecesary columns from DataFrame"
   ]
  },
  {
   "cell_type": "code",
   "execution_count": 89,
   "metadata": {},
   "outputs": [],
   "source": [
    "data.drop(columns=['Unique_ID','Country','Name'],axis=1,inplace=True)"
   ]
  },
  {
   "cell_type": "code",
   "execution_count": 90,
   "metadata": {},
   "outputs": [
    {
     "data": {
      "text/html": [
       "<div>\n",
       "<style scoped>\n",
       "    .dataframe tbody tr th:only-of-type {\n",
       "        vertical-align: middle;\n",
       "    }\n",
       "\n",
       "    .dataframe tbody tr th {\n",
       "        vertical-align: top;\n",
       "    }\n",
       "\n",
       "    .dataframe thead th {\n",
       "        text-align: right;\n",
       "    }\n",
       "</style>\n",
       "<table border=\"1\" class=\"dataframe\">\n",
       "  <thead>\n",
       "    <tr style=\"text-align: right;\">\n",
       "      <th></th>\n",
       "      <th>Genre</th>\n",
       "      <th>Song_Name</th>\n",
       "      <th>Timestamp</th>\n",
       "      <th>Views</th>\n",
       "      <th>Comments</th>\n",
       "      <th>Likes</th>\n",
       "      <th>Popularity</th>\n",
       "      <th>Followers</th>\n",
       "    </tr>\n",
       "  </thead>\n",
       "  <tbody>\n",
       "  </tbody>\n",
       "</table>\n",
       "</div>"
      ],
      "text/plain": [
       "Empty DataFrame\n",
       "Columns: [Genre, Song_Name, Timestamp, Views, Comments, Likes, Popularity, Followers]\n",
       "Index: []"
      ]
     },
     "execution_count": 90,
     "metadata": {},
     "output_type": "execute_result"
    }
   ],
   "source": [
    "#Checking for duplicate songs\n",
    "data[data['Song_Name'].duplicated()]"
   ]
  },
  {
   "cell_type": "markdown",
   "metadata": {},
   "source": [
    "#### Converted likes and popularity to respective integer counts as 1K to 1000 , 1M to 1000000"
   ]
  },
  {
   "cell_type": "code",
   "execution_count": 91,
   "metadata": {},
   "outputs": [],
   "source": [
    "#function to convert data value containing 1K to 1000 or 1M to 1000000 respectively\n",
    "def popularityConverting(x):\n",
    "    if x[-1]=='K':\n",
    "        x= ''.join(x[:-1].split(','))\n",
    "        x=float(x)*1000\n",
    "    elif x[-1]=='M':\n",
    "        x= ''.join(x[:-1].split(','))\n",
    "        x=float(x)*1000000\n",
    "    else:\n",
    "        x= ''.join(x.split(','))\n",
    "    return x"
   ]
  },
  {
   "cell_type": "code",
   "execution_count": 92,
   "metadata": {},
   "outputs": [],
   "source": [
    "data['Popularity'] = data.Popularity.apply(popularityConverting)\n",
    "data['Popularity'] = data.Popularity.astype('float')\n",
    "data['Likes'] = data.Likes.apply(popularityConverting)\n",
    "data['Likes'] = data.Likes.astype('float')"
   ]
  },
  {
   "cell_type": "code",
   "execution_count": 93,
   "metadata": {},
   "outputs": [],
   "source": [
    "#pd.plotting.scatter_matrix(data, alpha=0.3, figsize=(14,8), diagonal='kde');"
   ]
  },
  {
   "cell_type": "code",
   "execution_count": 94,
   "metadata": {},
   "outputs": [
    {
     "data": {
      "text/plain": [
       "<matplotlib.axes._subplots.AxesSubplot at 0x1a2c2a9e10>"
      ]
     },
     "execution_count": 94,
     "metadata": {},
     "output_type": "execute_result"
    },
    {
     "data": {
      "image/png": "[encoded data removed]",
      "text/plain": [
       "<Figure size 576x576 with 4 Axes>"
      ]
     },
     "metadata": {
      "needs_background": "light"
     },
     "output_type": "display_data"
    }
   ],
   "source": [
    "plt.figure(figsize=(8,8))\n",
    "plt.subplot(2,2,1)\n",
    "sns.regplot(x=\"Likes\", y=\"Views\", data=data)\n",
    "plt.subplot(2,2,2)\n",
    "sns.regplot(x=\"Comments\", y=\"Views\", data=data)\n",
    "plt.subplot(2,2,3)\n",
    "sns.regplot(x=\"Popularity\", y=\"Views\", data=data)\n",
    "plt.subplot(2,2,4)\n",
    "sns.regplot(x=\"Followers\", y=\"Views\", data=data)"
   ]
  },
  {
   "cell_type": "code",
   "execution_count": 95,
   "metadata": {},
   "outputs": [
    {
     "data": {
      "text/plain": [
       "Genre\n",
       "all-music               2.451156e+06\n",
       "alternativerock         8.545917e+05\n",
       "ambient                 3.985286e+05\n",
       "classical               3.931904e+05\n",
       "country                 2.945058e+05\n",
       "danceedm                2.667007e+05\n",
       "deephouse               6.264949e+04\n",
       "disco                   3.681520e+05\n",
       "drumbass                3.712738e+04\n",
       "dubstep                 2.407431e+05\n",
       "electronic              1.736528e+05\n",
       "folksingersongwriter    4.753422e+05\n",
       "hiphoprap               2.145161e+06\n",
       "indie                   1.657772e+06\n",
       "latin                   2.364045e+05\n",
       "metal                   1.288263e+05\n",
       "pop                     3.608129e+05\n",
       "rbsoul                  6.094165e+05\n",
       "reggaeton               1.149190e+06\n",
       "rock                    1.325153e+05\n",
       "trap                    2.763905e+05\n",
       "Name: Views, dtype: float64"
      ]
     },
     "execution_count": 95,
     "metadata": {},
     "output_type": "execute_result"
    }
   ],
   "source": [
    "data.groupby(['Genre'])['Views'].mean()"
   ]
  },
  {
   "cell_type": "markdown",
   "metadata": {},
   "source": [
    "### Feature Engineering"
   ]
  },
  {
   "cell_type": "markdown",
   "metadata": {},
   "source": [
    "Here we have taken Now as a Date 2019/ 2/ 27 , From this date we have calculated date difference (oldness) of song \n",
    "So that we can calculate date Like Per Date which give **Likes given per day average** \n",
    "Same we have done for followers_per_date , Popularity_per_date which we have used for predicting Views"
   ]
  },
  {
   "cell_type": "code",
   "execution_count": 96,
   "metadata": {},
   "outputs": [
    {
     "data": {
      "text/html": [
       "<div>\n",
       "<style scoped>\n",
       "    .dataframe tbody tr th:only-of-type {\n",
       "        vertical-align: middle;\n",
       "    }\n",
       "\n",
       "    .dataframe tbody tr th {\n",
       "        vertical-align: top;\n",
       "    }\n",
       "\n",
       "    .dataframe thead th {\n",
       "        text-align: right;\n",
       "    }\n",
       "</style>\n",
       "<table border=\"1\" class=\"dataframe\">\n",
       "  <thead>\n",
       "    <tr style=\"text-align: right;\">\n",
       "      <th></th>\n",
       "      <th>Genre</th>\n",
       "      <th>Song_Name</th>\n",
       "      <th>Timestamp</th>\n",
       "      <th>Views</th>\n",
       "      <th>Comments</th>\n",
       "      <th>Likes</th>\n",
       "      <th>Popularity</th>\n",
       "      <th>Followers</th>\n",
       "      <th>date_old</th>\n",
       "      <th>like_per_date</th>\n",
       "      <th>followers_per_date</th>\n",
       "      <th>Popularity_per_date</th>\n",
       "    </tr>\n",
       "  </thead>\n",
       "  <tbody>\n",
       "    <tr>\n",
       "      <td>0</td>\n",
       "      <td>danceedm</td>\n",
       "      <td>N-Vitral presents BOMBSQUAD - Poison Spitter (...</td>\n",
       "      <td>2018-03-30 15:24:45</td>\n",
       "      <td>14017</td>\n",
       "      <td>4</td>\n",
       "      <td>499.0</td>\n",
       "      <td>97.0</td>\n",
       "      <td>119563</td>\n",
       "      <td>333</td>\n",
       "      <td>1.498498</td>\n",
       "      <td>359.048048</td>\n",
       "      <td>0.291291</td>\n",
       "    </tr>\n",
       "    <tr>\n",
       "      <td>1</td>\n",
       "      <td>danceedm</td>\n",
       "      <td>Dj Aladdin - Old School Hip Hop Quick Mix</td>\n",
       "      <td>2016-06-20 05:58:52</td>\n",
       "      <td>1918</td>\n",
       "      <td>17</td>\n",
       "      <td>49.0</td>\n",
       "      <td>17.0</td>\n",
       "      <td>2141</td>\n",
       "      <td>981</td>\n",
       "      <td>0.049949</td>\n",
       "      <td>2.182467</td>\n",
       "      <td>0.017329</td>\n",
       "    </tr>\n",
       "    <tr>\n",
       "      <td>2</td>\n",
       "      <td>danceedm</td>\n",
       "      <td>Maxximize On Air - Mixed by Blasterjaxx - Epis...</td>\n",
       "      <td>2015-05-08 17:45:59</td>\n",
       "      <td>9668</td>\n",
       "      <td>11</td>\n",
       "      <td>312.0</td>\n",
       "      <td>91.0</td>\n",
       "      <td>22248</td>\n",
       "      <td>1390</td>\n",
       "      <td>0.224460</td>\n",
       "      <td>16.005755</td>\n",
       "      <td>0.065468</td>\n",
       "    </tr>\n",
       "    <tr>\n",
       "      <td>3</td>\n",
       "      <td>rbsoul</td>\n",
       "      <td>MC Yago - Tenho Compromisso (DJ R7)</td>\n",
       "      <td>2017-06-08 23:50:03</td>\n",
       "      <td>113036</td>\n",
       "      <td>2</td>\n",
       "      <td>2400.0</td>\n",
       "      <td>76.0</td>\n",
       "      <td>393655</td>\n",
       "      <td>628</td>\n",
       "      <td>3.821656</td>\n",
       "      <td>626.839172</td>\n",
       "      <td>0.121019</td>\n",
       "    </tr>\n",
       "    <tr>\n",
       "      <td>4</td>\n",
       "      <td>danceedm</td>\n",
       "      <td>Escape (feat. Steph Jones)</td>\n",
       "      <td>2016-09-17 20:50:19</td>\n",
       "      <td>110024</td>\n",
       "      <td>81</td>\n",
       "      <td>3031.0</td>\n",
       "      <td>699.0</td>\n",
       "      <td>201030</td>\n",
       "      <td>892</td>\n",
       "      <td>3.397982</td>\n",
       "      <td>225.369955</td>\n",
       "      <td>0.783632</td>\n",
       "    </tr>\n",
       "  </tbody>\n",
       "</table>\n",
       "</div>"
      ],
      "text/plain": [
       "      Genre                                          Song_Name  \\\n",
       "0  danceedm  N-Vitral presents BOMBSQUAD - Poison Spitter (...   \n",
       "1  danceedm          Dj Aladdin - Old School Hip Hop Quick Mix   \n",
       "2  danceedm  Maxximize On Air - Mixed by Blasterjaxx - Epis...   \n",
       "3    rbsoul                MC Yago - Tenho Compromisso (DJ R7)   \n",
       "4  danceedm                         Escape (feat. Steph Jones)   \n",
       "\n",
       "            Timestamp   Views  Comments   Likes  Popularity  Followers  \\\n",
       "0 2018-03-30 15:24:45   14017         4   499.0        97.0     119563   \n",
       "1 2016-06-20 05:58:52    1918        17    49.0        17.0       2141   \n",
       "2 2015-05-08 17:45:59    9668        11   312.0        91.0      22248   \n",
       "3 2017-06-08 23:50:03  113036         2  2400.0        76.0     393655   \n",
       "4 2016-09-17 20:50:19  110024        81  3031.0       699.0     201030   \n",
       "\n",
       "   date_old  like_per_date  followers_per_date  Popularity_per_date  \n",
       "0       333       1.498498          359.048048             0.291291  \n",
       "1       981       0.049949            2.182467             0.017329  \n",
       "2      1390       0.224460           16.005755             0.065468  \n",
       "3       628       3.821656          626.839172             0.121019  \n",
       "4       892       3.397982          225.369955             0.783632  "
      ]
     },
     "execution_count": 96,
     "metadata": {},
     "output_type": "execute_result"
    }
   ],
   "source": [
    "NOW = dt.datetime(2019, 2, 27)\n",
    "data['Timestamp'] =pd.to_datetime(data['Timestamp'])\n",
    "data['date_old']=(NOW-data['Timestamp']).dt.days\n",
    "data['like_per_date']=data['Likes']/data['date_old']\n",
    "data['followers_per_date']=data['Followers']/data['date_old']\n",
    "data['Popularity_per_date']=data['Popularity']/data['date_old']\n",
    "data.head()"
   ]
  },
  {
   "cell_type": "markdown",
   "metadata": {},
   "source": [
    "#### One Hot Encoding : Genre Column"
   ]
  },
  {
   "cell_type": "code",
   "execution_count": 97,
   "metadata": {},
   "outputs": [],
   "source": [
    "data_new= pd.get_dummies(data.loc[:,['Comments', 'Likes', 'Popularity','like_per_date','Popularity_per_date',\\\n",
    "                                     'Followers','Genre']],columns=['Genre'],drop_first=True)"
   ]
  },
  {
   "cell_type": "code",
   "execution_count": 98,
   "metadata": {},
   "outputs": [
    {
     "data": {
      "text/html": [
       "<div>\n",
       "<style scoped>\n",
       "    .dataframe tbody tr th:only-of-type {\n",
       "        vertical-align: middle;\n",
       "    }\n",
       "\n",
       "    .dataframe tbody tr th {\n",
       "        vertical-align: top;\n",
       "    }\n",
       "\n",
       "    .dataframe thead th {\n",
       "        text-align: right;\n",
       "    }\n",
       "</style>\n",
       "<table border=\"1\" class=\"dataframe\">\n",
       "  <thead>\n",
       "    <tr style=\"text-align: right;\">\n",
       "      <th></th>\n",
       "      <th>Views</th>\n",
       "      <th>Comments</th>\n",
       "      <th>Likes</th>\n",
       "      <th>Popularity</th>\n",
       "      <th>Followers</th>\n",
       "      <th>date_old</th>\n",
       "      <th>like_per_date</th>\n",
       "      <th>followers_per_date</th>\n",
       "      <th>Popularity_per_date</th>\n",
       "    </tr>\n",
       "  </thead>\n",
       "  <tbody>\n",
       "    <tr>\n",
       "      <td>Views</td>\n",
       "      <td>1.000000</td>\n",
       "      <td>0.679107</td>\n",
       "      <td>0.980132</td>\n",
       "      <td>0.834635</td>\n",
       "      <td>0.103603</td>\n",
       "      <td>0.008631</td>\n",
       "      <td>0.459671</td>\n",
       "      <td>0.004738</td>\n",
       "      <td>0.437701</td>\n",
       "    </tr>\n",
       "    <tr>\n",
       "      <td>Comments</td>\n",
       "      <td>0.679107</td>\n",
       "      <td>1.000000</td>\n",
       "      <td>0.656648</td>\n",
       "      <td>0.641818</td>\n",
       "      <td>0.085034</td>\n",
       "      <td>0.006908</td>\n",
       "      <td>0.540796</td>\n",
       "      <td>0.012755</td>\n",
       "      <td>0.674046</td>\n",
       "    </tr>\n",
       "    <tr>\n",
       "      <td>Likes</td>\n",
       "      <td>0.980132</td>\n",
       "      <td>0.656648</td>\n",
       "      <td>1.000000</td>\n",
       "      <td>0.869048</td>\n",
       "      <td>0.110321</td>\n",
       "      <td>0.003698</td>\n",
       "      <td>0.478396</td>\n",
       "      <td>0.005664</td>\n",
       "      <td>0.418447</td>\n",
       "    </tr>\n",
       "    <tr>\n",
       "      <td>Popularity</td>\n",
       "      <td>0.834635</td>\n",
       "      <td>0.641818</td>\n",
       "      <td>0.869048</td>\n",
       "      <td>1.000000</td>\n",
       "      <td>0.138454</td>\n",
       "      <td>0.041308</td>\n",
       "      <td>0.293431</td>\n",
       "      <td>0.000447</td>\n",
       "      <td>0.374552</td>\n",
       "    </tr>\n",
       "    <tr>\n",
       "      <td>Followers</td>\n",
       "      <td>0.103603</td>\n",
       "      <td>0.085034</td>\n",
       "      <td>0.110321</td>\n",
       "      <td>0.138454</td>\n",
       "      <td>1.000000</td>\n",
       "      <td>0.179522</td>\n",
       "      <td>0.039548</td>\n",
       "      <td>0.177716</td>\n",
       "      <td>0.047431</td>\n",
       "    </tr>\n",
       "    <tr>\n",
       "      <td>date_old</td>\n",
       "      <td>0.008631</td>\n",
       "      <td>0.006908</td>\n",
       "      <td>0.003698</td>\n",
       "      <td>0.041308</td>\n",
       "      <td>0.179522</td>\n",
       "      <td>1.000000</td>\n",
       "      <td>-0.068360</td>\n",
       "      <td>-0.061376</td>\n",
       "      <td>-0.062460</td>\n",
       "    </tr>\n",
       "    <tr>\n",
       "      <td>like_per_date</td>\n",
       "      <td>0.459671</td>\n",
       "      <td>0.540796</td>\n",
       "      <td>0.478396</td>\n",
       "      <td>0.293431</td>\n",
       "      <td>0.039548</td>\n",
       "      <td>-0.068360</td>\n",
       "      <td>1.000000</td>\n",
       "      <td>0.090036</td>\n",
       "      <td>0.807086</td>\n",
       "    </tr>\n",
       "    <tr>\n",
       "      <td>followers_per_date</td>\n",
       "      <td>0.004738</td>\n",
       "      <td>0.012755</td>\n",
       "      <td>0.005664</td>\n",
       "      <td>0.000447</td>\n",
       "      <td>0.177716</td>\n",
       "      <td>-0.061376</td>\n",
       "      <td>0.090036</td>\n",
       "      <td>1.000000</td>\n",
       "      <td>0.095805</td>\n",
       "    </tr>\n",
       "    <tr>\n",
       "      <td>Popularity_per_date</td>\n",
       "      <td>0.437701</td>\n",
       "      <td>0.674046</td>\n",
       "      <td>0.418447</td>\n",
       "      <td>0.374552</td>\n",
       "      <td>0.047431</td>\n",
       "      <td>-0.062460</td>\n",
       "      <td>0.807086</td>\n",
       "      <td>0.095805</td>\n",
       "      <td>1.000000</td>\n",
       "    </tr>\n",
       "  </tbody>\n",
       "</table>\n",
       "</div>"
      ],
      "text/plain": [
       "                        Views  Comments     Likes  Popularity  Followers  \\\n",
       "Views                1.000000  0.679107  0.980132    0.834635   0.103603   \n",
       "Comments             0.679107  1.000000  0.656648    0.641818   0.085034   \n",
       "Likes                0.980132  0.656648  1.000000    0.869048   0.110321   \n",
       "Popularity           0.834635  0.641818  0.869048    1.000000   0.138454   \n",
       "Followers            0.103603  0.085034  0.110321    0.138454   1.000000   \n",
       "date_old             0.008631  0.006908  0.003698    0.041308   0.179522   \n",
       "like_per_date        0.459671  0.540796  0.478396    0.293431   0.039548   \n",
       "followers_per_date   0.004738  0.012755  0.005664    0.000447   0.177716   \n",
       "Popularity_per_date  0.437701  0.674046  0.418447    0.374552   0.047431   \n",
       "\n",
       "                     date_old  like_per_date  followers_per_date  \\\n",
       "Views                0.008631       0.459671            0.004738   \n",
       "Comments             0.006908       0.540796            0.012755   \n",
       "Likes                0.003698       0.478396            0.005664   \n",
       "Popularity           0.041308       0.293431            0.000447   \n",
       "Followers            0.179522       0.039548            0.177716   \n",
       "date_old             1.000000      -0.068360           -0.061376   \n",
       "like_per_date       -0.068360       1.000000            0.090036   \n",
       "followers_per_date  -0.061376       0.090036            1.000000   \n",
       "Popularity_per_date -0.062460       0.807086            0.095805   \n",
       "\n",
       "                     Popularity_per_date  \n",
       "Views                           0.437701  \n",
       "Comments                        0.674046  \n",
       "Likes                           0.418447  \n",
       "Popularity                      0.374552  \n",
       "Followers                       0.047431  \n",
       "date_old                       -0.062460  \n",
       "like_per_date                   0.807086  \n",
       "followers_per_date              0.095805  \n",
       "Popularity_per_date             1.000000  "
      ]
     },
     "execution_count": 98,
     "metadata": {},
     "output_type": "execute_result"
    }
   ],
   "source": [
    "data.corr()"
   ]
  },
  {
   "cell_type": "code",
   "execution_count": 99,
   "metadata": {},
   "outputs": [
    {
     "data": {
      "text/html": [
       "<div>\n",
       "<style scoped>\n",
       "    .dataframe tbody tr th:only-of-type {\n",
       "        vertical-align: middle;\n",
       "    }\n",
       "\n",
       "    .dataframe tbody tr th {\n",
       "        vertical-align: top;\n",
       "    }\n",
       "\n",
       "    .dataframe thead th {\n",
       "        text-align: right;\n",
       "    }\n",
       "</style>\n",
       "<table border=\"1\" class=\"dataframe\">\n",
       "  <thead>\n",
       "    <tr style=\"text-align: right;\">\n",
       "      <th></th>\n",
       "      <th>Views</th>\n",
       "      <th>Comments</th>\n",
       "      <th>Likes</th>\n",
       "      <th>Popularity</th>\n",
       "      <th>Followers</th>\n",
       "      <th>date_old</th>\n",
       "      <th>like_per_date</th>\n",
       "      <th>followers_per_date</th>\n",
       "      <th>Popularity_per_date</th>\n",
       "    </tr>\n",
       "  </thead>\n",
       "  <tbody>\n",
       "    <tr>\n",
       "      <td>count</td>\n",
       "      <td>7.845700e+04</td>\n",
       "      <td>78457.000000</td>\n",
       "      <td>7.845700e+04</td>\n",
       "      <td>78457.000000</td>\n",
       "      <td>7.845700e+04</td>\n",
       "      <td>78457.000000</td>\n",
       "      <td>78457.000000</td>\n",
       "      <td>7.845700e+04</td>\n",
       "      <td>78457.000000</td>\n",
       "    </tr>\n",
       "    <tr>\n",
       "      <td>mean</td>\n",
       "      <td>5.469740e+05</td>\n",
       "      <td>115.265559</td>\n",
       "      <td>8.821561e+03</td>\n",
       "      <td>920.834992</td>\n",
       "      <td>4.787668e+05</td>\n",
       "      <td>994.554941</td>\n",
       "      <td>22.304639</td>\n",
       "      <td>1.608082e+03</td>\n",
       "      <td>1.725872</td>\n",
       "    </tr>\n",
       "    <tr>\n",
       "      <td>std</td>\n",
       "      <td>3.883110e+06</td>\n",
       "      <td>724.617900</td>\n",
       "      <td>5.277471e+04</td>\n",
       "      <td>4810.404229</td>\n",
       "      <td>1.168127e+06</td>\n",
       "      <td>1018.430752</td>\n",
       "      <td>191.924312</td>\n",
       "      <td>1.792715e+04</td>\n",
       "      <td>12.508010</td>\n",
       "    </tr>\n",
       "    <tr>\n",
       "      <td>min</td>\n",
       "      <td>0.000000e+00</td>\n",
       "      <td>0.000000</td>\n",
       "      <td>0.000000e+00</td>\n",
       "      <td>0.000000</td>\n",
       "      <td>1.000000e+00</td>\n",
       "      <td>1.000000</td>\n",
       "      <td>0.000000</td>\n",
       "      <td>9.269988e-03</td>\n",
       "      <td>0.000000</td>\n",
       "    </tr>\n",
       "    <tr>\n",
       "      <td>25%</td>\n",
       "      <td>6.216000e+03</td>\n",
       "      <td>1.000000</td>\n",
       "      <td>1.290000e+02</td>\n",
       "      <td>13.000000</td>\n",
       "      <td>1.770000e+04</td>\n",
       "      <td>298.000000</td>\n",
       "      <td>0.200441</td>\n",
       "      <td>2.933043e+01</td>\n",
       "      <td>0.021019</td>\n",
       "    </tr>\n",
       "    <tr>\n",
       "      <td>50%</td>\n",
       "      <td>2.538600e+04</td>\n",
       "      <td>12.000000</td>\n",
       "      <td>6.660000e+02</td>\n",
       "      <td>87.000000</td>\n",
       "      <td>8.768200e+04</td>\n",
       "      <td>767.000000</td>\n",
       "      <td>1.297659</td>\n",
       "      <td>1.255202e+02</td>\n",
       "      <td>0.168457</td>\n",
       "    </tr>\n",
       "    <tr>\n",
       "      <td>75%</td>\n",
       "      <td>1.201200e+05</td>\n",
       "      <td>61.000000</td>\n",
       "      <td>2.857000e+03</td>\n",
       "      <td>405.000000</td>\n",
       "      <td>3.936550e+05</td>\n",
       "      <td>1403.000000</td>\n",
       "      <td>6.183333</td>\n",
       "      <td>5.513894e+02</td>\n",
       "      <td>0.845787</td>\n",
       "    </tr>\n",
       "    <tr>\n",
       "      <td>max</td>\n",
       "      <td>1.994050e+08</td>\n",
       "      <td>104082.000000</td>\n",
       "      <td>2.770000e+06</td>\n",
       "      <td>324000.000000</td>\n",
       "      <td>9.789123e+06</td>\n",
       "      <td>16858.000000</td>\n",
       "      <td>19222.222222</td>\n",
       "      <td>1.780013e+06</td>\n",
       "      <td>2262.962963</td>\n",
       "    </tr>\n",
       "  </tbody>\n",
       "</table>\n",
       "</div>"
      ],
      "text/plain": [
       "              Views       Comments         Likes     Popularity     Followers  \\\n",
       "count  7.845700e+04   78457.000000  7.845700e+04   78457.000000  7.845700e+04   \n",
       "mean   5.469740e+05     115.265559  8.821561e+03     920.834992  4.787668e+05   \n",
       "std    3.883110e+06     724.617900  5.277471e+04    4810.404229  1.168127e+06   \n",
       "min    0.000000e+00       0.000000  0.000000e+00       0.000000  1.000000e+00   \n",
       "25%    6.216000e+03       1.000000  1.290000e+02      13.000000  1.770000e+04   \n",
       "50%    2.538600e+04      12.000000  6.660000e+02      87.000000  8.768200e+04   \n",
       "75%    1.201200e+05      61.000000  2.857000e+03     405.000000  3.936550e+05   \n",
       "max    1.994050e+08  104082.000000  2.770000e+06  324000.000000  9.789123e+06   \n",
       "\n",
       "           date_old  like_per_date  followers_per_date  Popularity_per_date  \n",
       "count  78457.000000   78457.000000        7.845700e+04         78457.000000  \n",
       "mean     994.554941      22.304639        1.608082e+03             1.725872  \n",
       "std     1018.430752     191.924312        1.792715e+04            12.508010  \n",
       "min        1.000000       0.000000        9.269988e-03             0.000000  \n",
       "25%      298.000000       0.200441        2.933043e+01             0.021019  \n",
       "50%      767.000000       1.297659        1.255202e+02             0.168457  \n",
       "75%     1403.000000       6.183333        5.513894e+02             0.845787  \n",
       "max    16858.000000   19222.222222        1.780013e+06          2262.962963  "
      ]
     },
     "execution_count": 99,
     "metadata": {},
     "output_type": "execute_result"
    }
   ],
   "source": [
    "data.describe()\n",
    "#if mean and median not equal outliers ??"
   ]
  },
  {
   "cell_type": "code",
   "execution_count": 100,
   "metadata": {},
   "outputs": [],
   "source": [
    "features_data=['Comments', 'Likes', 'Popularity', 'like_per_date',\n",
    "       'Popularity_per_date', 'Followers', 'Genre_alternativerock',\n",
    "       'Genre_ambient', 'Genre_classical', 'Genre_country', 'Genre_danceedm',\n",
    "       'Genre_deephouse', 'Genre_disco', 'Genre_drumbass', 'Genre_dubstep',\n",
    "       'Genre_electronic', 'Genre_folksingersongwriter', 'Genre_hiphoprap',\n",
    "       'Genre_indie', 'Genre_latin', 'Genre_metal', 'Genre_pop',\n",
    "       'Genre_rbsoul', 'Genre_reggaeton', 'Genre_rock', 'Genre_trap']\n",
    "#features_data"
   ]
  },
  {
   "cell_type": "code",
   "execution_count": 101,
   "metadata": {},
   "outputs": [
    {
     "data": {
      "text/html": [
       "<div>\n",
       "<style scoped>\n",
       "    .dataframe tbody tr th:only-of-type {\n",
       "        vertical-align: middle;\n",
       "    }\n",
       "\n",
       "    .dataframe tbody tr th {\n",
       "        vertical-align: top;\n",
       "    }\n",
       "\n",
       "    .dataframe thead th {\n",
       "        text-align: right;\n",
       "    }\n",
       "</style>\n",
       "<table border=\"1\" class=\"dataframe\">\n",
       "  <thead>\n",
       "    <tr style=\"text-align: right;\">\n",
       "      <th></th>\n",
       "      <th>Comments</th>\n",
       "      <th>Likes</th>\n",
       "      <th>Popularity</th>\n",
       "      <th>like_per_date</th>\n",
       "      <th>Popularity_per_date</th>\n",
       "      <th>Followers</th>\n",
       "      <th>Genre_alternativerock</th>\n",
       "      <th>Genre_ambient</th>\n",
       "      <th>Genre_classical</th>\n",
       "      <th>Genre_country</th>\n",
       "      <th>...</th>\n",
       "      <th>Genre_folksingersongwriter</th>\n",
       "      <th>Genre_hiphoprap</th>\n",
       "      <th>Genre_indie</th>\n",
       "      <th>Genre_latin</th>\n",
       "      <th>Genre_metal</th>\n",
       "      <th>Genre_pop</th>\n",
       "      <th>Genre_rbsoul</th>\n",
       "      <th>Genre_reggaeton</th>\n",
       "      <th>Genre_rock</th>\n",
       "      <th>Genre_trap</th>\n",
       "    </tr>\n",
       "  </thead>\n",
       "  <tbody>\n",
       "    <tr>\n",
       "      <td>0</td>\n",
       "      <td>4</td>\n",
       "      <td>499.0</td>\n",
       "      <td>97.0</td>\n",
       "      <td>1.498498</td>\n",
       "      <td>0.291291</td>\n",
       "      <td>119563</td>\n",
       "      <td>0</td>\n",
       "      <td>0</td>\n",
       "      <td>0</td>\n",
       "      <td>0</td>\n",
       "      <td>...</td>\n",
       "      <td>0</td>\n",
       "      <td>0</td>\n",
       "      <td>0</td>\n",
       "      <td>0</td>\n",
       "      <td>0</td>\n",
       "      <td>0</td>\n",
       "      <td>0</td>\n",
       "      <td>0</td>\n",
       "      <td>0</td>\n",
       "      <td>0</td>\n",
       "    </tr>\n",
       "    <tr>\n",
       "      <td>1</td>\n",
       "      <td>17</td>\n",
       "      <td>49.0</td>\n",
       "      <td>17.0</td>\n",
       "      <td>0.049949</td>\n",
       "      <td>0.017329</td>\n",
       "      <td>2141</td>\n",
       "      <td>0</td>\n",
       "      <td>0</td>\n",
       "      <td>0</td>\n",
       "      <td>0</td>\n",
       "      <td>...</td>\n",
       "      <td>0</td>\n",
       "      <td>0</td>\n",
       "      <td>0</td>\n",
       "      <td>0</td>\n",
       "      <td>0</td>\n",
       "      <td>0</td>\n",
       "      <td>0</td>\n",
       "      <td>0</td>\n",
       "      <td>0</td>\n",
       "      <td>0</td>\n",
       "    </tr>\n",
       "    <tr>\n",
       "      <td>2</td>\n",
       "      <td>11</td>\n",
       "      <td>312.0</td>\n",
       "      <td>91.0</td>\n",
       "      <td>0.224460</td>\n",
       "      <td>0.065468</td>\n",
       "      <td>22248</td>\n",
       "      <td>0</td>\n",
       "      <td>0</td>\n",
       "      <td>0</td>\n",
       "      <td>0</td>\n",
       "      <td>...</td>\n",
       "      <td>0</td>\n",
       "      <td>0</td>\n",
       "      <td>0</td>\n",
       "      <td>0</td>\n",
       "      <td>0</td>\n",
       "      <td>0</td>\n",
       "      <td>0</td>\n",
       "      <td>0</td>\n",
       "      <td>0</td>\n",
       "      <td>0</td>\n",
       "    </tr>\n",
       "    <tr>\n",
       "      <td>3</td>\n",
       "      <td>2</td>\n",
       "      <td>2400.0</td>\n",
       "      <td>76.0</td>\n",
       "      <td>3.821656</td>\n",
       "      <td>0.121019</td>\n",
       "      <td>393655</td>\n",
       "      <td>0</td>\n",
       "      <td>0</td>\n",
       "      <td>0</td>\n",
       "      <td>0</td>\n",
       "      <td>...</td>\n",
       "      <td>0</td>\n",
       "      <td>0</td>\n",
       "      <td>0</td>\n",
       "      <td>0</td>\n",
       "      <td>0</td>\n",
       "      <td>0</td>\n",
       "      <td>1</td>\n",
       "      <td>0</td>\n",
       "      <td>0</td>\n",
       "      <td>0</td>\n",
       "    </tr>\n",
       "    <tr>\n",
       "      <td>4</td>\n",
       "      <td>81</td>\n",
       "      <td>3031.0</td>\n",
       "      <td>699.0</td>\n",
       "      <td>3.397982</td>\n",
       "      <td>0.783632</td>\n",
       "      <td>201030</td>\n",
       "      <td>0</td>\n",
       "      <td>0</td>\n",
       "      <td>0</td>\n",
       "      <td>0</td>\n",
       "      <td>...</td>\n",
       "      <td>0</td>\n",
       "      <td>0</td>\n",
       "      <td>0</td>\n",
       "      <td>0</td>\n",
       "      <td>0</td>\n",
       "      <td>0</td>\n",
       "      <td>0</td>\n",
       "      <td>0</td>\n",
       "      <td>0</td>\n",
       "      <td>0</td>\n",
       "    </tr>\n",
       "  </tbody>\n",
       "</table>\n",
       "<p>5 rows × 26 columns</p>\n",
       "</div>"
      ],
      "text/plain": [
       "   Comments   Likes  Popularity  like_per_date  Popularity_per_date  \\\n",
       "0         4   499.0        97.0       1.498498             0.291291   \n",
       "1        17    49.0        17.0       0.049949             0.017329   \n",
       "2        11   312.0        91.0       0.224460             0.065468   \n",
       "3         2  2400.0        76.0       3.821656             0.121019   \n",
       "4        81  3031.0       699.0       3.397982             0.783632   \n",
       "\n",
       "   Followers  Genre_alternativerock  Genre_ambient  Genre_classical  \\\n",
       "0     119563                      0              0                0   \n",
       "1       2141                      0              0                0   \n",
       "2      22248                      0              0                0   \n",
       "3     393655                      0              0                0   \n",
       "4     201030                      0              0                0   \n",
       "\n",
       "   Genre_country  ...  Genre_folksingersongwriter  Genre_hiphoprap  \\\n",
       "0              0  ...                           0                0   \n",
       "1              0  ...                           0                0   \n",
       "2              0  ...                           0                0   \n",
       "3              0  ...                           0                0   \n",
       "4              0  ...                           0                0   \n",
       "\n",
       "   Genre_indie  Genre_latin  Genre_metal  Genre_pop  Genre_rbsoul  \\\n",
       "0            0            0            0          0             0   \n",
       "1            0            0            0          0             0   \n",
       "2            0            0            0          0             0   \n",
       "3            0            0            0          0             1   \n",
       "4            0            0            0          0             0   \n",
       "\n",
       "   Genre_reggaeton  Genre_rock  Genre_trap  \n",
       "0                0           0           0  \n",
       "1                0           0           0  \n",
       "2                0           0           0  \n",
       "3                0           0           0  \n",
       "4                0           0           0  \n",
       "\n",
       "[5 rows x 26 columns]"
      ]
     },
     "execution_count": 101,
     "metadata": {},
     "output_type": "execute_result"
    }
   ],
   "source": [
    "X = data_new[features_data]\n",
    "y = data['Views']\n",
    "X.head()"
   ]
  },
  {
   "cell_type": "code",
   "execution_count": 102,
   "metadata": {},
   "outputs": [
    {
     "data": {
      "text/plain": [
       "(54919, 26)"
      ]
     },
     "execution_count": 102,
     "metadata": {},
     "output_type": "execute_result"
    }
   ],
   "source": [
    "X_train, X_test, y_train, y_test = train_test_split(X, y, test_size=0.3, random_state=42)\n",
    "sc = StandardScaler()\n",
    "X_train = sc.fit_transform(X_train)\n",
    "X_test = sc.transform(X_test)\n",
    "X_train.shape"
   ]
  },
  {
   "cell_type": "markdown",
   "metadata": {},
   "source": [
    "#### Dimenshion Reduction : PCA "
   ]
  },
  {
   "cell_type": "code",
   "execution_count": 103,
   "metadata": {
    "scrolled": true
   },
   "outputs": [
    {
     "name": "stdout",
     "output_type": "stream",
     "text": [
      "[0.12912044 0.05419281 0.04652355 0.04310385 0.04124074 0.04096238\n",
      " 0.04052563 0.03977466 0.03967267 0.03912047 0.03897657 0.03885792\n",
      " 0.03880988 0.0387497  0.03870004 0.03860346 0.03851838 0.03850384\n",
      " 0.0384905  0.03847823 0.03839604 0.03269133 0.01317417 0.00672252\n",
      " 0.00548207 0.00260815]\n",
      "[0.12912044 0.18331325 0.2298368  0.27294065 0.31418138 0.35514377\n",
      " 0.3956694  0.43544406 0.47511672 0.5142372  0.55321377 0.59207169\n",
      " 0.63088157 0.66963127 0.70833131 0.74693476 0.78545314 0.82395699\n",
      " 0.86244748 0.90092571 0.93932176 0.97201309 0.98518726 0.99190978\n",
      " 0.99739185 1.        ]\n"
     ]
    },
    {
     "data": {
      "image/png": "[encoded data removed]",
      "text/plain": [
       "<Figure size 720x432 with 1 Axes>"
      ]
     },
     "metadata": {
      "needs_background": "light"
     },
     "output_type": "display_data"
    }
   ],
   "source": [
    "# Build PCA using standarized trained data\n",
    "pca = PCA(n_components=None, svd_solver=\"full\")\n",
    "pca.fit(StandardScaler().fit_transform(X_train))\n",
    "print(pca.explained_variance_ratio_)\n",
    "cum_var_exp = np.cumsum(pca.explained_variance_ratio_)\n",
    "plt.figure(figsize=(10, 6))\n",
    "plt.bar(range(1, 27), pca.explained_variance_ratio_, align=\"center\",\n",
    "        color='red', label=\"Individual explained variance\")\n",
    "plt.step(range(1, 27), cum_var_exp, where=\"mid\", label=\"Cumulative explained variance\")\n",
    "plt.xticks(range(1, 27))\n",
    "plt.legend(loc=\"best\")\n",
    "plt.xlabel(\"Principal component index\", {\"fontsize\": 14})\n",
    "plt.ylabel(\"Explained variance ratio\", {\"fontsize\": 14})\n",
    "plt.title(\"PCA on training data\", {\"fontsize\": 16});\n",
    "print(cum_var_exp)"
   ]
  },
  {
   "cell_type": "markdown",
   "metadata": {},
   "source": [
    "We can see that almost 20 features are contributing for 90 % of variation So we will **not do dimenshion reduction** else it will loss data information"
   ]
  },
  {
   "cell_type": "markdown",
   "metadata": {},
   "source": [
    "### Model Training"
   ]
  },
  {
   "cell_type": "markdown",
   "metadata": {},
   "source": [
    "### Linear Regression"
   ]
  },
  {
   "cell_type": "code",
   "execution_count": 104,
   "metadata": {},
   "outputs": [
    {
     "data": {
      "image/png": "[encoded data removed]",
      "text/plain": [
       "<Figure size 432x288 with 1 Axes>"
      ]
     },
     "metadata": {
      "needs_background": "light"
     },
     "output_type": "display_data"
    },
    {
     "name": "stdout",
     "output_type": "stream",
     "text": [
      "RMSE: 632023.223058\n"
     ]
    }
   ],
   "source": [
    "lr_regressor =LinearRegression()\n",
    "lr_regressor.fit(X_train, y_train)\n",
    "preds = lr_regressor.predict(X_test)\n",
    "plt.scatter(y_test,preds)\n",
    "plt.grid()\n",
    "plt.xlabel('Actual y')\n",
    "plt.ylabel('Predicted y')\n",
    "plt.title('scatter plot between actual y and predicted y')\n",
    "plt.show()\n",
    "rmse = np.sqrt(mean_squared_error(y_test, preds))\n",
    "print(\"RMSE: %f\" % (rmse))\n"
   ]
  },
  {
   "cell_type": "markdown",
   "metadata": {},
   "source": [
    "### Lasso Regression"
   ]
  },
  {
   "cell_type": "code",
   "execution_count": 105,
   "metadata": {},
   "outputs": [
    {
     "name": "stdout",
     "output_type": "stream",
     "text": [
      "tuned hpyerparameters :(best parameters)  {'alpha': 0.001}\n",
      "accuracy : 0.9636982546246026\n"
     ]
    }
   ],
   "source": [
    "lasso_params = {'alpha':[0.005,0.001, 0.02, 0.03, 0.05, 0.06]}\n",
    "laso_regressor=Lasso()\n",
    "laso_regressor_cv=GridSearchCV(laso_regressor,lasso_params,cv=5)\n",
    "laso_regressor_cv.fit(X_train,y_train)\n",
    "print(\"tuned hpyerparameters :(best parameters) \",laso_regressor_cv.best_params_)\n",
    "print(\"accuracy :\",laso_regressor_cv.best_score_)"
   ]
  },
  {
   "cell_type": "code",
   "execution_count": 106,
   "metadata": {},
   "outputs": [
    {
     "data": {
      "image/png": "[encoded data removed]",
      "text/plain": [
       "<Figure size 432x288 with 1 Axes>"
      ]
     },
     "metadata": {
      "needs_background": "light"
     },
     "output_type": "display_data"
    },
    {
     "name": "stdout",
     "output_type": "stream",
     "text": [
      "RMSE: 632023.117071\n"
     ]
    }
   ],
   "source": [
    "laso_regressor =Lasso(alpha= 0.06)\n",
    "laso_regressor.fit(X_train, y_train)\n",
    "preds = laso_regressor.predict(X_test)\n",
    "plt.scatter(y_test,preds)\n",
    "plt.grid()\n",
    "plt.xlabel('Actual y')\n",
    "plt.ylabel('Predicted y')\n",
    "plt.title('scatter plot between actual y and predicted y')\n",
    "plt.show()\n",
    "rmse = np.sqrt(mean_squared_error(y_test, preds))\n",
    "print(\"RMSE: %f\" % (rmse))"
   ]
  },
  {
   "cell_type": "markdown",
   "metadata": {},
   "source": [
    "### Random Forest Regressor"
   ]
  },
  {
   "cell_type": "code",
   "execution_count": 107,
   "metadata": {},
   "outputs": [
    {
     "name": "stdout",
     "output_type": "stream",
     "text": [
      "tuned hpyerparameters :(best parameters)  {'max_depth': 30, 'max_features': 0.5, 'min_samples_leaf': 1, 'n_estimators': 100}\n",
      "accuracy : 0.9607276124512972\n"
     ]
    }
   ],
   "source": [
    "rf_regressor= RandomForestRegressor()\n",
    "hyperparam_grid={\"n_estimators\": [10, 50, 100],\"max_features\": [\"sqrt\", \"log2\", 0.4, 0.5],\\\n",
    "                 \"min_samples_leaf\": [1, 3, 5],'max_depth':[5,10,15,30]}\n",
    "rf_regressor_cv = GridSearchCV(rf_regressor,hyperparam_grid,cv=2)\n",
    "rf_regressor_cv.fit(X_train,y_train)\n",
    "print(\"tuned hpyerparameters :(best parameters) \",rf_regressor_cv.best_params_)\n",
    "print(\"accuracy :\",rf_regressor_cv.best_score_)"
   ]
  },
  {
   "cell_type": "code",
   "execution_count": 108,
   "metadata": {},
   "outputs": [
    {
     "data": {
      "image/png": "[encoded data removed]",
      "text/plain": [
       "<Figure size 432x288 with 1 Axes>"
      ]
     },
     "metadata": {
      "needs_background": "light"
     },
     "output_type": "display_data"
    },
    {
     "name": "stdout",
     "output_type": "stream",
     "text": [
      "RMSE: 612541.449158\n"
     ]
    }
   ],
   "source": [
    "rf_regressor=RandomForestRegressor(max_depth= 15,max_features= 0.4, min_samples_leaf= 1, n_estimators=50)\n",
    "rf_regressor.fit(X_train,y_train)\n",
    "\n",
    "preds = rf_regressor.predict(X_test)\n",
    "rmse = np.sqrt(mean_squared_error(y_test, preds))\n",
    "plt.scatter(y_test,preds)\n",
    "plt.grid()\n",
    "plt.xlabel('Actual y')\n",
    "plt.ylabel('Predicted y')\n",
    "plt.title('scatter plot between actual y and predicted y')\n",
    "plt.show()\n",
    "print(\"RMSE: %f\" % (rmse))"
   ]
  },
  {
   "cell_type": "code",
   "execution_count": 109,
   "metadata": {},
   "outputs": [
    {
     "name": "stdout",
     "output_type": "stream",
     "text": [
      "[13 16 18 12  9 11 17 23 20  7  6  8 14 24 21 25 15 19 10 22  5  4  3  0\n",
      "  2  1]\n",
      "[ 1  2  0  3  4  5 22 10 19 15 25 21 24 14  8  6  7 20 23 17 11  9 12 18\n",
      " 16 13]\n"
     ]
    },
    {
     "data": {
      "image/png": "[encoded data removed]",
      "text/plain": [
       "<Figure size 576x360 with 1 Axes>"
      ]
     },
     "metadata": {
      "needs_background": "light"
     },
     "output_type": "display_data"
    }
   ],
   "source": [
    "feature_importance = rf_regressor.feature_importances_\n",
    "print(np.argsort(rf_regressor.feature_importances_))\n",
    "indices = np.argsort(rf_regressor.feature_importances_)[::-1]\n",
    "print(indices)\n",
    "plt.figure(figsize=(8, 5))\n",
    "plt.xticks(range(1,27), X.columns[indices], rotation=90)\n",
    "plt.bar(range(1, 27), feature_importance[indices], align=\"center\")\n",
    "plt.title(\"Feature Importance\", {\"fontsize\": 16});"
   ]
  },
  {
   "cell_type": "markdown",
   "metadata": {},
   "source": [
    "### XGB Regressor"
   ]
  },
  {
   "cell_type": "code",
   "execution_count": 110,
   "metadata": {},
   "outputs": [
    {
     "name": "stdout",
     "output_type": "stream",
     "text": [
      "[11:33:27] WARNING: src/objective/regression_obj.cu:152: reg:linear is now deprecated in favor of reg:squarederror.\n",
      "[11:34:03] WARNING: src/objective/regression_obj.cu:152: reg:linear is now deprecated in favor of reg:squarederror.\n",
      "[11:34:37] WARNING: src/objective/regression_obj.cu:152: reg:linear is now deprecated in favor of reg:squarederror.\n",
      "[11:34:44] WARNING: src/objective/regression_obj.cu:152: reg:linear is now deprecated in favor of reg:squarederror.\n",
      "[11:34:50] WARNING: src/objective/regression_obj.cu:152: reg:linear is now deprecated in favor of reg:squarederror.\n",
      "[11:35:08] WARNING: src/objective/regression_obj.cu:152: reg:linear is now deprecated in favor of reg:squarederror.\n",
      "[11:35:27] WARNING: src/objective/regression_obj.cu:152: reg:linear is now deprecated in favor of reg:squarederror.\n",
      "[11:35:40] WARNING: src/objective/regression_obj.cu:152: reg:linear is now deprecated in favor of reg:squarederror.\n",
      "[11:35:54] WARNING: src/objective/regression_obj.cu:152: reg:linear is now deprecated in favor of reg:squarederror.\n",
      "[11:35:57] WARNING: src/objective/regression_obj.cu:152: reg:linear is now deprecated in favor of reg:squarederror.\n",
      "[11:36:00] WARNING: src/objective/regression_obj.cu:152: reg:linear is now deprecated in favor of reg:squarederror.\n",
      "[11:36:35] WARNING: src/objective/regression_obj.cu:152: reg:linear is now deprecated in favor of reg:squarederror.\n",
      "[11:37:11] WARNING: src/objective/regression_obj.cu:152: reg:linear is now deprecated in favor of reg:squarederror.\n",
      "[11:37:30] WARNING: src/objective/regression_obj.cu:152: reg:linear is now deprecated in favor of reg:squarederror.\n",
      "[11:37:49] WARNING: src/objective/regression_obj.cu:152: reg:linear is now deprecated in favor of reg:squarederror.\n",
      "[11:38:02] WARNING: src/objective/regression_obj.cu:152: reg:linear is now deprecated in favor of reg:squarederror.\n",
      "[11:38:15] WARNING: src/objective/regression_obj.cu:152: reg:linear is now deprecated in favor of reg:squarederror.\n",
      "[11:38:19] WARNING: src/objective/regression_obj.cu:152: reg:linear is now deprecated in favor of reg:squarederror.\n",
      "[11:38:22] WARNING: src/objective/regression_obj.cu:152: reg:linear is now deprecated in favor of reg:squarederror.\n",
      "[11:38:26] WARNING: src/objective/regression_obj.cu:152: reg:linear is now deprecated in favor of reg:squarederror.\n",
      "[11:38:30] WARNING: src/objective/regression_obj.cu:152: reg:linear is now deprecated in favor of reg:squarederror.\n"
     ]
    },
    {
     "data": {
      "text/plain": [
       "XGBRegressor(base_score=0.5, booster='gbtree', colsample_bylevel=1,\n",
       "             colsample_bynode=1, colsample_bytree=1, gamma=0,\n",
       "             importance_type='gain', learning_rate=0.15, max_delta_step=0,\n",
       "             max_depth=10, min_child_weight=1, missing=None, n_estimators=500,\n",
       "             n_jobs=1, nthread=None, objective='reg:linear', random_state=0,\n",
       "             reg_alpha=0, reg_lambda=1, scale_pos_weight=1, seed=None,\n",
       "             silent=None, subsample=1, verbosity=1)"
      ]
     },
     "execution_count": 110,
     "metadata": {},
     "output_type": "execute_result"
    }
   ],
   "source": [
    "xgb_regressor=xgb.XGBRegressor()\n",
    "\n",
    "n_estimators = [100, 500]\n",
    "max_depth = [2, 3, 5, 10, 15]\n",
    "learning_rate=[0.05,0.1,0.15,0.20]\n",
    "min_child_weight=[1,2,3,4]\n",
    "\n",
    "# Define the grid of hyperparameters to search\n",
    "hyperparameter_grid = {\n",
    "    'n_estimators': n_estimators,\n",
    "    'max_depth':max_depth,\n",
    "    'learning_rate':learning_rate,\n",
    "    'min_child_weight':min_child_weight,\n",
    "    }\n",
    "\n",
    "# Set up the random search with 4-fold cross validation\n",
    "xgb_regressor_cv = RandomizedSearchCV(estimator=xgb_regressor,\n",
    "            param_distributions=hyperparameter_grid,\n",
    "            cv=2,\n",
    "            scoring = 'neg_mean_absolute_error',\n",
    "            return_train_score = True,\n",
    "            random_state=42)\n",
    "xgb_regressor_cv.fit(X_train,y_train)\n",
    "xgb_regressor_cv.best_estimator_"
   ]
  },
  {
   "cell_type": "code",
   "execution_count": 111,
   "metadata": {},
   "outputs": [
    {
     "name": "stdout",
     "output_type": "stream",
     "text": [
      "[11:39:32] WARNING: src/objective/regression_obj.cu:152: reg:linear is now deprecated in favor of reg:squarederror.\n"
     ]
    },
    {
     "data": {
      "image/png": "[encoded data removed]",
      "text/plain": [
       "<Figure size 432x288 with 1 Axes>"
      ]
     },
     "metadata": {
      "needs_background": "light"
     },
     "output_type": "display_data"
    },
    {
     "name": "stdout",
     "output_type": "stream",
     "text": [
      "RMSE: 600474.351682\n"
     ]
    }
   ],
   "source": [
    "#regressor=xgb.XGBRegressor(objective ='reg:squarederror',n_estimators=100, min_child_weight=3, max_depth=10, learning_rate=0.1, booster='gbtree', base_score=0.25)\n",
    "xgb_regressor= xgb.XGBRegressor(base_score=0.5, booster='gbtree', colsample_bylevel=1,\n",
    "             colsample_bynode=1, colsample_bytree=1, gamma=0,\n",
    "             importance_type='gain', learning_rate=0.15, max_delta_step=0,\n",
    "             max_depth=10, min_child_weight=1, missing=None, n_estimators=500,\n",
    "             n_jobs=1, nthread=None, objective='reg:linear', random_state=0,\n",
    "             reg_alpha=0, reg_lambda=1, scale_pos_weight=1, seed=None,\n",
    "             silent=None, subsample=1, verbosity=1)\n",
    "xgb_regressor.fit(X_train,y_train)\n",
    "\n",
    "preds = xgb_regressor.predict(X_test)\n",
    "rmse = np.sqrt(mean_squared_error(y_test, preds))\n",
    "plt.scatter(y_test,preds)\n",
    "plt.grid()\n",
    "plt.xlabel('Actual y')\n",
    "plt.ylabel('Predicted y')\n",
    "plt.title('scatter plot between actual y and predicted y')\n",
    "plt.show()\n",
    "print(\"RMSE: %f\" % (rmse))"
   ]
  },
  {
   "cell_type": "code",
   "execution_count": 112,
   "metadata": {},
   "outputs": [
    {
     "data": {
      "text/plain": [
       "array([8.4430929e-03, 9.2721063e-01, 7.1914494e-03, 3.2758466e-03,\n",
       "       5.1983302e-03, 3.0051393e-03, 1.2616479e-03, 6.4479088e-04,\n",
       "       3.5306457e-03, 1.7642690e-03, 2.3902948e-03, 2.1895445e-04,\n",
       "       1.4405121e-04, 5.4429125e-05, 4.5001510e-04, 2.2678806e-03,\n",
       "       1.1260960e-04, 1.1035288e-03, 5.8043324e-03, 1.1015189e-02,\n",
       "       4.2449814e-04, 5.7330425e-03, 6.6122646e-03, 5.5480574e-04,\n",
       "       1.0225333e-03, 5.6575378e-04], dtype=float32)"
      ]
     },
     "execution_count": 112,
     "metadata": {},
     "output_type": "execute_result"
    }
   ],
   "source": [
    "#outliers\n",
    "xgb_regressor.feature_importances_"
   ]
  },
  {
   "cell_type": "code",
   "execution_count": 113,
   "metadata": {},
   "outputs": [
    {
     "name": "stdout",
     "output_type": "stream",
     "text": [
      "[13 16 12 11 20 14 23 25  7 24 17  6  9 15 10  5  3  8  4 21 18 22  2  0\n",
      " 19  1]\n",
      "[ 1 19  0  2 22 18 21  4  8  3  5 10 15  9  6 17 24  7 25 23 14 20 11 12\n",
      " 16 13]\n"
     ]
    },
    {
     "ename": "AttributeError",
     "evalue": "'list' object has no attribute 'columns'",
     "output_type": "error",
     "traceback": [
      "\u001b[0;31m---------------------------------------------------------------------------\u001b[0m",
      "\u001b[0;31mAttributeError\u001b[0m                            Traceback (most recent call last)",
      "\u001b[0;32m<ipython-input-113-e914d7e8edbf>\u001b[0m in \u001b[0;36m<module>\u001b[0;34m\u001b[0m\n\u001b[1;32m      4\u001b[0m \u001b[0mprint\u001b[0m\u001b[0;34m(\u001b[0m\u001b[0mindices\u001b[0m\u001b[0;34m)\u001b[0m\u001b[0;34m\u001b[0m\u001b[0;34m\u001b[0m\u001b[0m\n\u001b[1;32m      5\u001b[0m \u001b[0mplt\u001b[0m\u001b[0;34m.\u001b[0m\u001b[0mfigure\u001b[0m\u001b[0;34m(\u001b[0m\u001b[0mfigsize\u001b[0m\u001b[0;34m=\u001b[0m\u001b[0;34m(\u001b[0m\u001b[0;36m8\u001b[0m\u001b[0;34m,\u001b[0m \u001b[0;36m5\u001b[0m\u001b[0;34m)\u001b[0m\u001b[0;34m)\u001b[0m\u001b[0;34m\u001b[0m\u001b[0;34m\u001b[0m\u001b[0m\n\u001b[0;32m----> 6\u001b[0;31m \u001b[0mplt\u001b[0m\u001b[0;34m.\u001b[0m\u001b[0mxticks\u001b[0m\u001b[0;34m(\u001b[0m\u001b[0mrange\u001b[0m\u001b[0;34m(\u001b[0m\u001b[0;36m1\u001b[0m\u001b[0;34m,\u001b[0m \u001b[0;36m6\u001b[0m\u001b[0;34m)\u001b[0m\u001b[0;34m,\u001b[0m \u001b[0mfeatures_data\u001b[0m\u001b[0;34m.\u001b[0m\u001b[0mcolumns\u001b[0m\u001b[0;34m[\u001b[0m\u001b[0mindices\u001b[0m\u001b[0;34m]\u001b[0m\u001b[0;34m,\u001b[0m \u001b[0mrotation\u001b[0m\u001b[0;34m=\u001b[0m\u001b[0;36m90\u001b[0m\u001b[0;34m)\u001b[0m\u001b[0;34m\u001b[0m\u001b[0;34m\u001b[0m\u001b[0m\n\u001b[0m\u001b[1;32m      7\u001b[0m \u001b[0mplt\u001b[0m\u001b[0;34m.\u001b[0m\u001b[0mbar\u001b[0m\u001b[0;34m(\u001b[0m\u001b[0mrange\u001b[0m\u001b[0;34m(\u001b[0m\u001b[0;36m1\u001b[0m\u001b[0;34m,\u001b[0m \u001b[0;36m6\u001b[0m\u001b[0;34m)\u001b[0m\u001b[0;34m,\u001b[0m \u001b[0mfeature_importance\u001b[0m\u001b[0;34m[\u001b[0m\u001b[0mindices\u001b[0m\u001b[0;34m]\u001b[0m\u001b[0;34m,\u001b[0m \u001b[0malign\u001b[0m\u001b[0;34m=\u001b[0m\u001b[0;34m\"center\"\u001b[0m\u001b[0;34m)\u001b[0m\u001b[0;34m\u001b[0m\u001b[0;34m\u001b[0m\u001b[0m\n\u001b[1;32m      8\u001b[0m \u001b[0mplt\u001b[0m\u001b[0;34m.\u001b[0m\u001b[0mtitle\u001b[0m\u001b[0;34m(\u001b[0m\u001b[0;34m\"Feature Importance\"\u001b[0m\u001b[0;34m,\u001b[0m \u001b[0;34m{\u001b[0m\u001b[0;34m\"fontsize\"\u001b[0m\u001b[0;34m:\u001b[0m \u001b[0;36m16\u001b[0m\u001b[0;34m}\u001b[0m\u001b[0;34m)\u001b[0m\u001b[0;34m;\u001b[0m\u001b[0;34m\u001b[0m\u001b[0;34m\u001b[0m\u001b[0m\n",
      "\u001b[0;31mAttributeError\u001b[0m: 'list' object has no attribute 'columns'"
     ]
    },
    {
     "data": {
      "text/plain": [
       "<Figure size 576x360 with 0 Axes>"
      ]
     },
     "metadata": {},
     "output_type": "display_data"
    }
   ],
   "source": [
    "feature_importance = xgb_regressor.feature_importances_\n",
    "print(np.argsort(xgb_regressor.feature_importances_))\n",
    "indices = np.argsort(xgb_regressor.feature_importances_)[::-1]\n",
    "print(indices)\n",
    "plt.figure(figsize=(8, 5))\n",
    "plt.xticks(range(1, 6), features_data.columns[indices], rotation=90)\n",
    "plt.bar(range(1, 6), feature_importance[indices], align=\"center\")\n",
    "plt.title(\"Feature Importance\", {\"fontsize\": 16});"
   ]
  },
  {
   "cell_type": "markdown",
   "metadata": {},
   "source": [
    "### Evaluation"
   ]
  },
  {
   "cell_type": "code",
   "execution_count": null,
   "metadata": {},
   "outputs": [],
   "source": [
    "estimators = {\"Lasso Regressor\": laso_regressor,\n",
    "              \"Random Forest Regressor\": rf_regressor,\n",
    "              \"XGB Regressor\": xgb_regressor}\n",
    "for estimator in estimators.keys():\n",
    "    print('RMSE {}:{:.2f}'.format(estimator,np.sqrt(mean_squared_error(y_test, estimators[estimator].predict(X_test)))))"
   ]
  },
  {
   "cell_type": "code",
   "execution_count": null,
   "metadata": {},
   "outputs": [],
   "source": [
    "# Saving model to disk\n",
    "pickle.dump(rf_regressor, open('model_predictor.pkl','wb'))\n",
    "\n",
    "# Loading model to compare the results\n",
    "model = pickle.load(open('model_predictor.pkl','rb'))"
   ]
  },
  {
   "cell_type": "markdown",
   "metadata": {},
   "source": [
    "As per Competition evaluation metric RMSE and for **unseen data** is lesser for **XGB regressor(640358)** for  so we have selected it as a final model"
   ]
  },
  {
   "cell_type": "markdown",
   "metadata": {},
   "source": [
    "### Generating Submission Data"
   ]
  },
  {
   "cell_type": "code",
   "execution_count": null,
   "metadata": {},
   "outputs": [],
   "source": [
    "data_test = pd.read_csv('./data/Data_Test.csv')\n",
    "label= data_test['Unique_ID']\n",
    "data_test.drop(columns=['Unique_ID','Country','Name','Song_Name'],axis=1,inplace=True)\n",
    "data_test['Likes'] = data_test.Likes.apply(popularityConverting)\n",
    "data_test['Likes'] = data_test.Likes.astype('float')\n",
    "data_test['Timestamp'] =pd.to_datetime(data_test['Timestamp'])\n",
    "data_test['dayofweek'] = data_test['Timestamp'].dt.dayofweek #but mostly people on weekend\n",
    "data_test['weekend'] = data_test['dayofweek'].apply(lambda x: 1 if (x>4)  else 0)\n",
    "data_test['date_old']=(NOW-data_test['Timestamp']).dt.days\n",
    "data_test['like_per_date']=data_test['Likes']/data_test['date_old']\n",
    "data_test['followers_per_date']=data_test['Followers']/data_test['date_old']\n",
    "data_test['Popularity'] = data_test.Popularity.apply(popularityConverting)\n",
    "data_test['Popularity'] = data_test.Popularity.astype('float')\n",
    "data_test['Popularity_per_date']=data_test['Popularity']/data_test['date_old']\n",
    "dfnew= pd.get_dummies(data_test.loc[:,['Comments', 'Likes', 'Popularity','like_per_date','Popularity_per_date','Followers','Genre']],columns=['Genre'],drop_first=True)\n",
    "X_testf=dfnew\n",
    "X_testf.head()"
   ]
  },
  {
   "cell_type": "code",
   "execution_count": null,
   "metadata": {},
   "outputs": [],
   "source": [
    "X_testf.shape"
   ]
  },
  {
   "cell_type": "code",
   "execution_count": null,
   "metadata": {},
   "outputs": [],
   "source": [
    "X_testf= sc.transform(X_testf)\n",
    "display(len(X_testf))\n",
    "print(X_testf)\n",
    "Y_pred = xgb_regressor.predict(X_testf)\n",
    "display(len(Y_pred))"
   ]
  },
  {
   "cell_type": "code",
   "execution_count": null,
   "metadata": {},
   "outputs": [],
   "source": [
    "print(Y_pred)\n",
    "display(len(label))"
   ]
  },
  {
   "cell_type": "code",
   "execution_count": null,
   "metadata": {},
   "outputs": [],
   "source": [
    "sub_df = pd.read_excel('./data/Sample_Submission.xlsx') \n",
    "submission = pd.DataFrame({\n",
    "        \"Unique_ID\": label,\n",
    "        \"Views\": Y_pred\n",
    "    })\n",
    "submission.to_excel('./data/Sample_Submission_Final.xlsx',index=False)"
   ]
  },
  {
   "cell_type": "markdown",
   "metadata": {},
   "source": [
    "### Conclusion"
   ]
  },
  {
   "cell_type": "markdown",
   "metadata": {},
   "source": [
    "As per competition we are getting highest score with XGBosst Regressor for unseen data.\n",
    "\n",
    "In case of feature importance to **help Customerst to understand user behaviour and personalize the user experience** we will select random forest.\n",
    "\n",
    "As per Random forest important features are **Likes ,Comments\t,Popularity\t,like_per_date\t,Popularity_per_date**\t\n"
   ]
  },
  {
   "cell_type": "code",
   "execution_count": null,
   "metadata": {},
   "outputs": [],
   "source": []
  }
 ],
 "metadata": {
  "kernelspec": {
   "display_name": "Python 3",
   "language": "python",
   "name": "python3"
  },
  "language_info": {
   "codemirror_mode": {
    "name": "ipython",
    "version": 3
   },
   "file_extension": ".py",
   "mimetype": "text/x-python",
   "name": "python",
   "nbconvert_exporter": "python",
   "pygments_lexer": "ipython3",
   "version": "3.7.3"
  },
  "varInspector": {
   "cols": {
    "lenName": 16,
    "lenType": 16,
    "lenVar": 40
   },
   "kernels_config": {
    "python": {
     "delete_cmd_postfix": "",
     "delete_cmd_prefix": "del ",
     "library": "var_list.py",
     "varRefreshCmd": "print(var_dic_list())"
    },
    "r": {
     "delete_cmd_postfix": ") ",
     "delete_cmd_prefix": "rm(",
     "library": "var_list.r",
     "varRefreshCmd": "cat(var_dic_list()) "
    }
   },
   "types_to_exclude": [
    "module",
    "function",
    "builtin_function_or_method",
    "instance",
    "_Feature"
   ],
   "window_display": false
  }
 },
 "nbformat": 4,
 "nbformat_minor": 2
}
